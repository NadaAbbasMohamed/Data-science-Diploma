{
 "cells": [
  {
   "cell_type": "code",
   "execution_count": 1,
   "metadata": {},
   "outputs": [],
   "source": [
    "# Imports:\n",
    "import numpy as np\n",
    "import pandas as pd\n",
    "from matplotlib import pyplot as plt\n",
    "import seaborn as sns"
   ]
  },
  {
   "cell_type": "code",
   "execution_count": 38,
   "metadata": {},
   "outputs": [],
   "source": [
    "%matplotlib inline\n",
    "#sns.set()"
   ]
  },
  {
   "cell_type": "code",
   "execution_count": 7,
   "metadata": {},
   "outputs": [],
   "source": [
    "df = pd.read_csv('50ulke.csv', index_col= 0)"
   ]
  },
  {
   "cell_type": "markdown",
   "metadata": {},
   "source": [
    "# 1- Investigate the dataset:"
   ]
  },
  {
   "cell_type": "code",
   "execution_count": 8,
   "metadata": {},
   "outputs": [
    {
     "data": {
      "text/html": [
       "<div>\n",
       "<style scoped>\n",
       "    .dataframe tbody tr th:only-of-type {\n",
       "        vertical-align: middle;\n",
       "    }\n",
       "\n",
       "    .dataframe tbody tr th {\n",
       "        vertical-align: top;\n",
       "    }\n",
       "\n",
       "    .dataframe thead th {\n",
       "        text-align: right;\n",
       "    }\n",
       "</style>\n",
       "<table border=\"1\" class=\"dataframe\">\n",
       "  <thead>\n",
       "    <tr style=\"text-align: right;\">\n",
       "      <th></th>\n",
       "      <th>Countries</th>\n",
       "      <th>National Income</th>\n",
       "      <th>Growth</th>\n",
       "      <th>Per person</th>\n",
       "      <th>Continent</th>\n",
       "    </tr>\n",
       "  </thead>\n",
       "  <tbody>\n",
       "    <tr>\n",
       "      <th>0</th>\n",
       "      <td>United States</td>\n",
       "      <td>20412.87</td>\n",
       "      <td>2.27</td>\n",
       "      <td>62152.0</td>\n",
       "      <td>North America</td>\n",
       "    </tr>\n",
       "    <tr>\n",
       "      <th>1</th>\n",
       "      <td>China</td>\n",
       "      <td>14092.51</td>\n",
       "      <td>6.86</td>\n",
       "      <td>10088.0</td>\n",
       "      <td>Asia</td>\n",
       "    </tr>\n",
       "    <tr>\n",
       "      <th>2</th>\n",
       "      <td>Japan</td>\n",
       "      <td>5167.05</td>\n",
       "      <td>1.71</td>\n",
       "      <td>40849.0</td>\n",
       "      <td>Asia</td>\n",
       "    </tr>\n",
       "    <tr>\n",
       "      <th>3</th>\n",
       "      <td>Germany</td>\n",
       "      <td>4211.64</td>\n",
       "      <td>2.51</td>\n",
       "      <td>50842.0</td>\n",
       "      <td>Europe</td>\n",
       "    </tr>\n",
       "    <tr>\n",
       "      <th>4</th>\n",
       "      <td>United Kingdom</td>\n",
       "      <td>2936.29</td>\n",
       "      <td>1.79</td>\n",
       "      <td>44177.0</td>\n",
       "      <td>Europe</td>\n",
       "    </tr>\n",
       "  </tbody>\n",
       "</table>\n",
       "</div>"
      ],
      "text/plain": [
       "        Countries  National Income  Growth  Per person      Continent\n",
       "0   United States         20412.87    2.27     62152.0  North America\n",
       "1           China         14092.51    6.86     10088.0           Asia\n",
       "2           Japan          5167.05    1.71     40849.0           Asia\n",
       "3         Germany          4211.64    2.51     50842.0         Europe\n",
       "4  United Kingdom          2936.29    1.79     44177.0         Europe"
      ]
     },
     "execution_count": 8,
     "metadata": {},
     "output_type": "execute_result"
    }
   ],
   "source": [
    "df.head()"
   ]
  },
  {
   "cell_type": "code",
   "execution_count": 9,
   "metadata": {},
   "outputs": [
    {
     "name": "stdout",
     "output_type": "stream",
     "text": [
      "<class 'pandas.core.frame.DataFrame'>\n",
      "Int64Index: 50 entries, 0 to 49\n",
      "Data columns (total 5 columns):\n",
      " #   Column           Non-Null Count  Dtype  \n",
      "---  ------           --------------  -----  \n",
      " 0   Countries        50 non-null     object \n",
      " 1   National Income  50 non-null     float64\n",
      " 2   Growth           50 non-null     float64\n",
      " 3   Per person       50 non-null     float64\n",
      " 4   Continent        50 non-null     object \n",
      "dtypes: float64(3), object(2)\n",
      "memory usage: 2.3+ KB\n"
     ]
    }
   ],
   "source": [
    "df.info()"
   ]
  },
  {
   "cell_type": "markdown",
   "metadata": {},
   "source": [
    "*what we can notice:*\n",
    "- The dataset is a small datset of only 50 entries (examples)\n",
    "- non of the attribute contain null values\n",
    "- contain 2 string attributes- 3 numerical values (float)"
   ]
  },
  {
   "cell_type": "code",
   "execution_count": 11,
   "metadata": {},
   "outputs": [
    {
     "data": {
      "text/plain": [
       "Sweden                      1\n",
       "Israel                      1\n",
       "Brazil                      1\n",
       "Vietnam                     1\n",
       "Korea                       1\n",
       "Hong Kong SAR               1\n",
       "China                       1\n",
       "Denmark                     1\n",
       "Belgium                     1\n",
       "United Arab Emirates        1\n",
       "Nigeria                     1\n",
       "India                       1\n",
       "Poland                      1\n",
       "Romania                     1\n",
       "Pakistan                    1\n",
       "Peru                        1\n",
       "Saudi Arabia                1\n",
       "Singapore                   1\n",
       "Austria                     1\n",
       "Australia                   1\n",
       "Norway                      1\n",
       "Egypt                       1\n",
       "Colombia                    1\n",
       "Finland                     1\n",
       "Indonesia                   1\n",
       "Mexico                      1\n",
       "Russia                      1\n",
       "Islamic Republic of Iran    1\n",
       "Czech Republic              1\n",
       "South Africa                1\n",
       "Italy                       1\n",
       "Taiwan Province of China    1\n",
       "United States               1\n",
       "Switzerland                 1\n",
       "Malaysia                    1\n",
       "Spain                       1\n",
       "Philippines                 1\n",
       "Chile                       1\n",
       "Germany                     1\n",
       "Turkey                      1\n",
       "Netherlands                 1\n",
       "Bangladesh                  1\n",
       "Argentina                   1\n",
       "Ireland                     1\n",
       "Thailand                    1\n",
       "United Kingdom              1\n",
       "Japan                       1\n",
       "Portugal                    1\n",
       "France                      1\n",
       "Canada                      1\n",
       "Name: Countries, dtype: int64"
      ]
     },
     "execution_count": 11,
     "metadata": {},
     "output_type": "execute_result"
    }
   ],
   "source": [
    "df['Countries'].value_counts()"
   ]
  },
  {
   "cell_type": "code",
   "execution_count": 12,
   "metadata": {},
   "outputs": [
    {
     "data": {
      "text/plain": [
       "Europe           19\n",
       "Asia             19\n",
       "South America     5\n",
       "Africa            3\n",
       "North America     3\n",
       "Oceania           1\n",
       "Name: Continent, dtype: int64"
      ]
     },
     "execution_count": 12,
     "metadata": {},
     "output_type": "execute_result"
    }
   ],
   "source": [
    "df['Continent'].value_counts()"
   ]
  },
  {
   "cell_type": "markdown",
   "metadata": {},
   "source": [
    "*we can conclude that:* most of our work would be related to European and Asian countries\n",
    "\n",
    "Continent is a very affecting attribute"
   ]
  },
  {
   "cell_type": "code",
   "execution_count": 13,
   "metadata": {},
   "outputs": [
    {
     "data": {
      "text/html": [
       "<div>\n",
       "<style scoped>\n",
       "    .dataframe tbody tr th:only-of-type {\n",
       "        vertical-align: middle;\n",
       "    }\n",
       "\n",
       "    .dataframe tbody tr th {\n",
       "        vertical-align: top;\n",
       "    }\n",
       "\n",
       "    .dataframe thead th {\n",
       "        text-align: right;\n",
       "    }\n",
       "</style>\n",
       "<table border=\"1\" class=\"dataframe\">\n",
       "  <thead>\n",
       "    <tr style=\"text-align: right;\">\n",
       "      <th></th>\n",
       "      <th>National Income</th>\n",
       "      <th>Growth</th>\n",
       "      <th>Per person</th>\n",
       "    </tr>\n",
       "  </thead>\n",
       "  <tbody>\n",
       "    <tr>\n",
       "      <th>count</th>\n",
       "      <td>50.000000</td>\n",
       "      <td>50.000000</td>\n",
       "      <td>50.000000</td>\n",
       "    </tr>\n",
       "    <tr>\n",
       "      <th>mean</th>\n",
       "      <td>1646.348200</td>\n",
       "      <td>3.320400</td>\n",
       "      <td>27696.000000</td>\n",
       "    </tr>\n",
       "    <tr>\n",
       "      <th>std</th>\n",
       "      <td>3448.554429</td>\n",
       "      <td>2.053468</td>\n",
       "      <td>25094.131496</td>\n",
       "    </tr>\n",
       "    <tr>\n",
       "      <th>min</th>\n",
       "      <td>231.570000</td>\n",
       "      <td>-0.740000</td>\n",
       "      <td>1615.000000</td>\n",
       "    </tr>\n",
       "    <tr>\n",
       "      <th>25%</th>\n",
       "      <td>353.440000</td>\n",
       "      <td>1.795000</td>\n",
       "      <td>6402.000000</td>\n",
       "    </tr>\n",
       "    <tr>\n",
       "      <th>50%</th>\n",
       "      <td>522.985000</td>\n",
       "      <td>2.880000</td>\n",
       "      <td>14565.500000</td>\n",
       "    </tr>\n",
       "    <tr>\n",
       "      <th>75%</th>\n",
       "      <td>1504.895000</td>\n",
       "      <td>4.287500</td>\n",
       "      <td>48738.250000</td>\n",
       "    </tr>\n",
       "    <tr>\n",
       "      <th>max</th>\n",
       "      <td>20412.870000</td>\n",
       "      <td>7.810000</td>\n",
       "      <td>86835.000000</td>\n",
       "    </tr>\n",
       "  </tbody>\n",
       "</table>\n",
       "</div>"
      ],
      "text/plain": [
       "       National Income     Growth    Per person\n",
       "count        50.000000  50.000000     50.000000\n",
       "mean       1646.348200   3.320400  27696.000000\n",
       "std        3448.554429   2.053468  25094.131496\n",
       "min         231.570000  -0.740000   1615.000000\n",
       "25%         353.440000   1.795000   6402.000000\n",
       "50%         522.985000   2.880000  14565.500000\n",
       "75%        1504.895000   4.287500  48738.250000\n",
       "max       20412.870000   7.810000  86835.000000"
      ]
     },
     "execution_count": 13,
     "metadata": {},
     "output_type": "execute_result"
    }
   ],
   "source": [
    " df.describe()"
   ]
  },
  {
   "cell_type": "markdown",
   "metadata": {},
   "source": [
    "*from this we can conclude:*\n",
    "- the National Income value must be normalized in a certain way (have different measuring unit: maybe in Million/ Billion USD or something)\n",
    "- on the other hand the mean value, max, min, and quartiles are very appropriate to be in simple USD or whatever currency the data is collected in\n",
    "- we can also notice for the Income Growth rate that there are negative values which shows that some countries suffer from declain in their income: maybe suffer from wars or internal confilcts, economical collapse or external pressure ..."
   ]
  },
  {
   "cell_type": "markdown",
   "metadata": {},
   "source": [
    "# 2- Visualizing Numerical values:"
   ]
  },
  {
   "cell_type": "code",
   "execution_count": 14,
   "metadata": {},
   "outputs": [
    {
     "data": {
      "text/html": [
       "<div>\n",
       "<style scoped>\n",
       "    .dataframe tbody tr th:only-of-type {\n",
       "        vertical-align: middle;\n",
       "    }\n",
       "\n",
       "    .dataframe tbody tr th {\n",
       "        vertical-align: top;\n",
       "    }\n",
       "\n",
       "    .dataframe thead th {\n",
       "        text-align: right;\n",
       "    }\n",
       "</style>\n",
       "<table border=\"1\" class=\"dataframe\">\n",
       "  <thead>\n",
       "    <tr style=\"text-align: right;\">\n",
       "      <th></th>\n",
       "      <th>Countries</th>\n",
       "      <th>National Income</th>\n",
       "      <th>Growth</th>\n",
       "      <th>Per person</th>\n",
       "      <th>Continent</th>\n",
       "    </tr>\n",
       "  </thead>\n",
       "  <tbody>\n",
       "    <tr>\n",
       "      <th>0</th>\n",
       "      <td>United States</td>\n",
       "      <td>20412.87</td>\n",
       "      <td>2.27</td>\n",
       "      <td>62152.0</td>\n",
       "      <td>North America</td>\n",
       "    </tr>\n",
       "    <tr>\n",
       "      <th>1</th>\n",
       "      <td>China</td>\n",
       "      <td>14092.51</td>\n",
       "      <td>6.86</td>\n",
       "      <td>10088.0</td>\n",
       "      <td>Asia</td>\n",
       "    </tr>\n",
       "    <tr>\n",
       "      <th>2</th>\n",
       "      <td>Japan</td>\n",
       "      <td>5167.05</td>\n",
       "      <td>1.71</td>\n",
       "      <td>40849.0</td>\n",
       "      <td>Asia</td>\n",
       "    </tr>\n",
       "    <tr>\n",
       "      <th>3</th>\n",
       "      <td>Germany</td>\n",
       "      <td>4211.64</td>\n",
       "      <td>2.51</td>\n",
       "      <td>50842.0</td>\n",
       "      <td>Europe</td>\n",
       "    </tr>\n",
       "    <tr>\n",
       "      <th>4</th>\n",
       "      <td>United Kingdom</td>\n",
       "      <td>2936.29</td>\n",
       "      <td>1.79</td>\n",
       "      <td>44177.0</td>\n",
       "      <td>Europe</td>\n",
       "    </tr>\n",
       "  </tbody>\n",
       "</table>\n",
       "</div>"
      ],
      "text/plain": [
       "        Countries  National Income  Growth  Per person      Continent\n",
       "0   United States         20412.87    2.27     62152.0  North America\n",
       "1           China         14092.51    6.86     10088.0           Asia\n",
       "2           Japan          5167.05    1.71     40849.0           Asia\n",
       "3         Germany          4211.64    2.51     50842.0         Europe\n",
       "4  United Kingdom          2936.29    1.79     44177.0         Europe"
      ]
     },
     "execution_count": 14,
     "metadata": {},
     "output_type": "execute_result"
    }
   ],
   "source": [
    "df.head()"
   ]
  },
  {
   "cell_type": "markdown",
   "metadata": {},
   "source": [
    "## Investigating National Incomes:"
   ]
  },
  {
   "cell_type": "code",
   "execution_count": 34,
   "metadata": {},
   "outputs": [
    {
     "data": {
      "text/plain": [
       "Text(0.5, 1, 'Growth')"
      ]
     },
     "execution_count": 34,
     "metadata": {},
     "output_type": "execute_result"
    },
    {
     "data": {
      "image/png": "[encoded data removed]",
      "text/plain": [
       "<Figure size 360x360 with 1 Axes>"
      ]
     },
     "metadata": {},
     "output_type": "display_data"
    },
    {
     "data": {
      "image/png": "[encoded data removed]",
      "text/plain": [
       "<Figure size 360x360 with 1 Axes>"
      ]
     },
     "metadata": {},
     "output_type": "display_data"
    }
   ],
   "source": [
    "#fig, axis = plt.subplots(2,3)#, figsize=(20,15))\n",
    "#fig.suptitle('distplot of numerical data', fontsize='x-large')\n",
    "\n",
    "sns.displot(data=df, x='National Income')\n",
    "axis[0,0].set_title('National Income')\n",
    "\n",
    "sns.displot(data=df, x='Growth')\n",
    "axis[0,1].set_title('Growth')"
   ]
  },
  {
   "cell_type": "code",
   "execution_count": 39,
   "metadata": {},
   "outputs": [
    {
     "data": {
      "text/plain": [
       "<seaborn.axisgrid.FacetGrid at 0x6170653e08>"
      ]
     },
     "execution_count": 39,
     "metadata": {},
     "output_type": "execute_result"
    },
    {
     "data": {
      "image/png": "[encoded data removed]",
      "text/plain": [
       "<Figure size 432x288 with 1 Axes>"
      ]
     },
     "metadata": {
      "needs_background": "light"
     },
     "output_type": "display_data"
    },
    {
     "data": {
      "image/png": "[encoded data removed]",
      "text/plain": [
       "<Figure size 360x360 with 1 Axes>"
      ]
     },
     "metadata": {
      "needs_background": "light"
     },
     "output_type": "display_data"
    }
   ],
   "source": [
    "plt.subplot(3,2,1)\n",
    "sns.displot(data=df, x='National Income')"
   ]
  },
  {
   "cell_type": "code",
   "execution_count": null,
   "metadata": {},
   "outputs": [],
   "source": []
  }
 ],
 "metadata": {
  "kernelspec": {
   "display_name": "Python 3",
   "language": "python",
   "name": "python3"
  },
  "language_info": {
   "codemirror_mode": {
    "name": "ipython",
    "version": 3
   },
   "file_extension": ".py",
   "mimetype": "text/x-python",
   "name": "python",
   "nbconvert_exporter": "python",
   "pygments_lexer": "ipython3",
   "version": "3.7.6"
  }
 },
 "nbformat": 4,
 "nbformat_minor": 4
}
