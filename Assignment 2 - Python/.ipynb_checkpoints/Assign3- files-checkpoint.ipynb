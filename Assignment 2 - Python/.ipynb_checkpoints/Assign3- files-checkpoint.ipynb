{
 "cells": [
  {
   "cell_type": "markdown",
   "metadata": {},
   "source": [
    "# Assignment 3 - files:\n",
    "### Part 1:"
   ]
  },
  {
   "cell_type": "code",
   "execution_count": null,
   "metadata": {},
   "outputs": [],
   "source": [
    "my_file = open('test.txt','r')\n",
    "content = my_file.read().upper()\n",
    "my_file.close()\n",
    "\n",
    "my_file = open('test.txt','w+')\n",
    "my_file.write(content)\n",
    "my_file.seek(0)\n",
    "print(my_file.read())\n",
    "my_file.close()\n"
   ]
  },
  {
   "cell_type": "markdown",
   "metadata": {},
   "source": [
    "### Part 2:"
   ]
  },
  {
   "cell_type": "code",
   "execution_count": 16,
   "metadata": {},
   "outputs": [
    {
     "name": "stdout",
     "output_type": "stream",
     "text": [
      "HELLO WORLD\n",
      "HELLO WORLD\n",
      "Hello world\n",
      "HELLO WORLD\n",
      "HELLO WORLD\n"
     ]
    }
   ],
   "source": [
    "my_file = open('test.txt','r')\n",
    "lines = my_file.readlines()\n",
    "lines[2]=lines[2].capitalize()\n",
    "my_file.close()\n",
    "\n",
    "my_file = open('test.txt','w+')\n",
    "my_file.writelines(lines)\n",
    "my_file.seek(0)\n",
    "print(my_file.read())\n",
    "my_file.close()"
   ]
  },
  {
   "cell_type": "markdown",
   "metadata": {},
   "source": [
    "### Part 3:"
   ]
  },
  {
   "cell_type": "code",
   "execution_count": 17,
   "metadata": {},
   "outputs": [
    {
     "name": "stdout",
     "output_type": "stream",
     "text": [
      "HELLO WORLD\n",
      "HELLO WORLD\n",
      "Hello world\n",
      "HELLO WORLD\n",
      "HELLO WORLD\n",
      "I Love Python\n"
     ]
    }
   ],
   "source": [
    "with open('test.txt','a+') as my_file:\n",
    "    my_file.writelines(['\\nI Love Python'])\n",
    "    my_file.seek(0)\n",
    "    print(my_file.read())\n",
    "    my_file.close()"
   ]
  },
  {
   "cell_type": "code",
   "execution_count": null,
   "metadata": {},
   "outputs": [],
   "source": []
  }
 ],
 "metadata": {
  "kernelspec": {
   "display_name": "Python 3",
   "language": "python",
   "name": "python3"
  },
  "language_info": {
   "codemirror_mode": {
    "name": "ipython",
    "version": 3
   },
   "file_extension": ".py",
   "mimetype": "text/x-python",
   "name": "python",
   "nbconvert_exporter": "python",
   "pygments_lexer": "ipython3",
   "version": "3.7.6"
  }
 },
 "nbformat": 4,
 "nbformat_minor": 4
}
