{
 "cells": [
  {
   "cell_type": "code",
   "execution_count": 3,
   "metadata": {},
   "outputs": [],
   "source": [
    "# Importing Modules:\n",
    "import os\n",
    "import random"
   ]
  },
  {
   "cell_type": "code",
   "execution_count": 4,
   "metadata": {},
   "outputs": [],
   "source": [
    "# Loading images paths\n",
    "\n",
    "img_pathes = os.listdir('./IMAGES/')\n",
    "n = len(img_pathes) # counting images loaded"
   ]
  },
  {
   "cell_type": "code",
   "execution_count": 8,
   "metadata": {},
   "outputs": [
    {
     "name": "stdout",
     "output_type": "stream",
     "text": [
      "['0', '1', '2', '3', '4', '5', '6', '7', '8', '9', 'a', 'b', 'c', 'd', 'e', 'f', 'g', 'h', 'i', 'j', 'k', 'l', 'm', 'n', 'o', 'p', 'q', 'r', 's', 't', 'u', 'v', 'w', 'x', 'y', 'z', 'A', 'B', 'C', 'D', 'E', 'F', 'G', 'H', 'I', 'J', 'K', 'L', 'M', 'N', 'O', 'P', 'Q', 'R', 'S', 'T', 'U', 'V', 'W', 'X', 'Y', 'Z']\n"
     ]
    }
   ],
   "source": [
    "# creating list of all posible characters\n",
    "\n",
    "chars_num = ['0','1','2','3','4','5','6','7','8','9']\n",
    "chars_low = ['a','b','c','d','e','f','g','h','i','j','k','l','m','n','o','p','q','r','s','t','u','v','w','x','y','z']\n",
    "chars_high = []\n",
    "for i in chars_low:\n",
    "    chars_high.append(i.upper())\n",
    "\n",
    "chars = chars_num + chars_low + chars_high\n",
    "print(chars)"
   ]
  },
  {
   "cell_type": "code",
   "execution_count": 9,
   "metadata": {},
   "outputs": [
    {
     "name": "stdout",
     "output_type": "stream",
     "text": [
      "['IkjxX', 'xHCsn', 'I8Utt', 'Ss5Ce', 'uidLA', 'n0N3F', '8028u', 'od8MS', 'DRxnb', 't68UI', 'SWEl1', 'pzoTv', '1itib', 'URsQc', '5ZSUr', 'kasvV', 'mYX2A', 'Xc2z7', 'CPd9u', 'owkbt', 'le6xU', '9W0QN', 'yXEzx', 'UcqZZ', 'X5avP', '5SC0h', 'v9eJs', 'UJ9dp', 'mHMyi', 'J8GXx', 'g9tSw', '4RC3D', 'DNnDT', 'nfIiO', 'FZMB7', 'Y0oFp', 'ptNiM', 'fz8Zl', 'fY1CR', 'x72yZ', 'FOrA5', 'IZANT', 'hNoNF', 'AVvKT', 'RKS2P', 'g72ap', 'XOoPL', 'QoBau', 'mv6u8', 'nUVrF']\n"
     ]
    }
   ],
   "source": [
    "names = []\n",
    "for i in range(n):\n",
    "    name=[]\n",
    "    for j in range(5):\n",
    "        name.append(random.choice(chars))\n",
    "    names.append(''.join(name))\n",
    "print(names)"
   ]
  },
  {
   "cell_type": "code",
   "execution_count": 11,
   "metadata": {},
   "outputs": [
    {
     "name": "stdout",
     "output_type": "stream",
     "text": [
      "New Names: ['0l6YM', '2rMY9', '3AciV', '4PIuJ', '4VZZ6', '4XIdh', '58MHY', '8v6gR', 'a8mUA', 'aJcyi', 'bFR30', 'blD89', 'BtfEM', 'burZu', 'c1OpY', 'ChyGm', 'dlv5B', 'FBW1y', 'ghSLM', 'GsVQ7', 'HYCTS', 'i3gqy', 'i5XnT', 'igoVN', 'Isx7L', 'jiu34', 'lqI17', 'mLM9d', 'N3ozu', 'nOIL8', 'nRIWX', 'O5VTy', 'otyug', 'P6SwB', 'PH4iD', 'pHn4k', 'Q5xBV', 'R1mVc', 'RGQXZ', 'rSt6N', 'ruith', 'vh7DW', 'W24Rp', 'WapYB', 'wAVqi', 'WSjO6', 'XleZJ', 'yON8n', 'zAJni', 'zMtfG']\n"
     ]
    }
   ],
   "source": [
    "for i in range(n):\n",
    "    if element in img_pathes:\n",
    "        os.rename(f'./IMAGES/{img_pathes[i]}',f'./IMAGES/{names[i]}' )\n",
    "        img_pathes.remove(img_pathes[i])\n",
    "\n",
    "img_pathes_2 = os.listdir('./IMAGES/')\n",
    "print(f'New Names: {img_pathes_2}')   # the names haven't got the same indecies due to the arrange ascending property of the folder itself"
   ]
  },
  {
   "cell_type": "code",
   "execution_count": null,
   "metadata": {},
   "outputs": [],
   "source": []
  }
 ],
 "metadata": {
  "kernelspec": {
   "display_name": "Python 3",
   "language": "python",
   "name": "python3"
  },
  "language_info": {
   "codemirror_mode": {
    "name": "ipython",
    "version": 3
   },
   "file_extension": ".py",
   "mimetype": "text/x-python",
   "name": "python",
   "nbconvert_exporter": "python",
   "pygments_lexer": "ipython3",
   "version": "3.7.6"
  }
 },
 "nbformat": 4,
 "nbformat_minor": 4
}
