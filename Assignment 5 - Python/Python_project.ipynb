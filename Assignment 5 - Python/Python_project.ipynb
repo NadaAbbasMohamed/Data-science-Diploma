{
 "cells": [
  {
   "cell_type": "markdown",
   "metadata": {},
   "source": [
    "## X-O game "
   ]
  },
  {
   "cell_type": "code",
   "execution_count": 6,
   "metadata": {},
   "outputs": [],
   "source": [
    "from IPython.display import clear_output"
   ]
  },
  {
   "cell_type": "code",
   "execution_count": 7,
   "metadata": {},
   "outputs": [],
   "source": [
    "class X_O_game():\n",
    "\n",
    "    def __init__(self):\n",
    "        self.places = ['1','2','3','4','5','6','7','8','9']\n",
    "        self.game_end = False\n",
    "        \n",
    "        # initial values for play method\n",
    "        self.win=False\n",
    "        self.winner='no one'\n",
    "        self.turn_num = 0\n",
    "        \n",
    "        # initial values for player_input method\n",
    "        self.place = 0\n",
    "        self.turn = 'no player'\n",
    "        print('***** WELCOME NEW PLAYERS *****\\n'+'_'*31+'\\n')\n",
    "        print(' '*10 + 'X -- O game\\n'+(' '*9) + ('='*13))\n",
    "    \n",
    "    def view(self):\n",
    "        space = (' '*7+'*'+' '*7+'*'+' '*7+'\\n')*2\n",
    "        play = '   {}   *   {}   *   {}   \\n'.format(self.places[0], self.places[1], self.places[2])\n",
    "        line = '**********************'\n",
    "        print(f'{space}{play}{space}{line}')\n",
    "\n",
    "        a,b,c = 4,5,6\n",
    "        play = '   {}   *   {}   *   {}   \\n'.format(self.places[3], self.places[4], self.places[5])\n",
    "        print(f'{space}{play}{space}{line}')\n",
    "\n",
    "        a,b,c = 7,8,9\n",
    "        play = '   {}   *   {}   *   {}   \\n'.format(self.places[6], self.places[7], self.places[8])\n",
    "        print(f'{space}{play}{space}')\n",
    "    \n",
    "    \n",
    "    def player_input(self): \n",
    "        if self.turn_num%2==0:\n",
    "            clear_output(wait=True)\n",
    "            self.view()\n",
    "            print('X player turn')\n",
    "            self.place = int(input('enter place to put your token: '))\n",
    "            self.turn = 'X'\n",
    "            \n",
    "        else:\n",
    "            clear_output(wait=True)\n",
    "            self.view()\n",
    "            print('O player turn')\n",
    "            self.place = int(input('enter place to put your token: '))\n",
    "            self.turn = 'O'\n",
    "        self.places[self.place-1]=self.turn\n",
    "        self.turn_num +=1\n",
    "        clear_output(wait=True)\n",
    "        self.view()\n",
    "        \n",
    "    def test_win(self):\n",
    "        if ((self.places[0]==self.places[1] and self.places[1]==self.places[2]) == True\n",
    "            or (self.places[3]==self.places[4] and self.places[4]==self.places[5]) == True\n",
    "            or (self.places[6]==self.places[7] and self.places[7]==self.places[8]) == True\n",
    "            or (self.places[0]==self.places[3] and self.places[3]==self.places[6]) == True\n",
    "            or (self.places[1]==self.places[4] and self.places[4]==self.places[7]) == True\n",
    "            or (self.places[2]==self.places[5] and self.places[5]==self.places[8]) == True\n",
    "            or (self.places[0]==self.places[4] and self.places[4]==self.places[8]) == True\n",
    "            or (self.places[2]==self.places[4] and self.places[4]==self.places[6]) == True):\n",
    "\n",
    "            self.win = True\n",
    "            self.winner = self.turn\n",
    "        else:\n",
    "            self.win = False\n",
    "    \n",
    "    \n",
    "    def play(self):\n",
    "        if self.win==False:\n",
    "            self.player_input()\n",
    "            self.test_win()\n",
    "            \n",
    "        if self.win== True:\n",
    "            print(f'Game has ended, {self.winner} has won !!')\n",
    "            print(f'Restart the program to play again')\n",
    "            self.game_end = True\n",
    "            \n",
    "        elif self.turn_num==8 and self.win==False:\n",
    "            print('No one has won !!! \\nplay again')\n",
    "            self.game_end = True\n",
    "    \n",
    "        "
   ]
  },
  {
   "cell_type": "code",
   "execution_count": 8,
   "metadata": {},
   "outputs": [
    {
     "name": "stdout",
     "output_type": "stream",
     "text": [
      "***** WELCOME NEW PLAYERS *****\n",
      "_______________________________\n",
      "\n",
      "          X -- O game\n",
      "         =============\n"
     ]
    }
   ],
   "source": [
    "game_play = X_O_game()"
   ]
  },
  {
   "cell_type": "code",
   "execution_count": 9,
   "metadata": {},
   "outputs": [
    {
     "name": "stdout",
     "output_type": "stream",
     "text": [
      "       *       *       \n",
      "       *       *       \n",
      "   1   *   O   *   X   \n",
      "       *       *       \n",
      "       *       *       \n",
      "**********************\n",
      "       *       *       \n",
      "       *       *       \n",
      "   X   *   X   *   X   \n",
      "       *       *       \n",
      "       *       *       \n",
      "**********************\n",
      "       *       *       \n",
      "       *       *       \n",
      "   O   *   8   *   O   \n",
      "       *       *       \n",
      "       *       *       \n",
      "\n",
      "Game has ended, X has won !!\n",
      "Restart the program to play again\n"
     ]
    }
   ],
   "source": [
    "while game_play.game_end == False:\n",
    "    game_play.play()"
   ]
  },
  {
   "cell_type": "code",
   "execution_count": null,
   "metadata": {},
   "outputs": [],
   "source": []
  }
 ],
 "metadata": {
  "kernelspec": {
   "display_name": "Python 3",
   "language": "python",
   "name": "python3"
  },
  "language_info": {
   "codemirror_mode": {
    "name": "ipython",
    "version": 3
   },
   "file_extension": ".py",
   "mimetype": "text/x-python",
   "name": "python",
   "nbconvert_exporter": "python",
   "pygments_lexer": "ipython3",
   "version": "3.7.6"
  }
 },
 "nbformat": 4,
 "nbformat_minor": 4
}
