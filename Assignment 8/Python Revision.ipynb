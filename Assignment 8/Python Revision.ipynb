{
  "nbformat": 4,
  "nbformat_minor": 0,
  "metadata": {
    "colab": {
      "name": "Welcome To Colaboratory",
      "provenance": [],
      "collapsed_sections": [],
      "toc_visible": true
    },
    "kernelspec": {
      "display_name": "Python 3",
      "name": "python3"
    }
  },
  "cells": [
    {
      "cell_type": "markdown",
      "metadata": {
        "id": "fUgYya0EBA8P"
      },
      "source": [
        "# 1- Python Program to Sort Words in Alphabetic Order"
      ]
    },
    {
      "cell_type": "code",
      "metadata": {
        "id": "9zs-W34gBVhk",
        "outputId": "7b184076-2d5c-4135-f92e-75fca839782f",
        "colab": {
          "base_uri": "https://localhost:8080/"
        }
      },
      "source": [
        "# Program to sort alphabetically the words form a string provided by the user\r\n",
        "my_str = input(\"Enter a string: \")\r\n",
        "\r\n",
        "# breakdown the string into a list of words\r\n",
        "words = [word.lower() for word in my_str.split()]\r\n",
        "words.sort()\r\n",
        "\r\n",
        "print(\"The sorted words are:\")\r\n",
        "for word in words:\r\n",
        "   print(word)"
      ],
      "execution_count": 1,
      "outputs": [
        {
          "output_type": "stream",
          "text": [
            "Enter a string: hi this is a new text\n",
            "The sorted words are:\n",
            "a\n",
            "hi\n",
            "is\n",
            "new\n",
            "text\n",
            "this\n"
          ],
          "name": "stdout"
        }
      ]
    },
    {
      "cell_type": "markdown",
      "metadata": {
        "id": "jHuxftYIB-h4"
      },
      "source": [
        "# 2- Python Program to Display Calendar"
      ]
    },
    {
      "cell_type": "code",
      "metadata": {
        "id": "wbsjuONuCE2D",
        "outputId": "c1d0c774-a170-4644-b56a-09a51a863623",
        "colab": {
          "base_uri": "https://localhost:8080/"
        }
      },
      "source": [
        "import calendar\r\n",
        "yy = int(input(\"Enter year: \"))\r\n",
        "mm = int(input(\"Enter month: \"))\r\n",
        "\r\n",
        "# display the calendar\r\n",
        "print(calendar.month(yy, mm))"
      ],
      "execution_count": 2,
      "outputs": [
        {
          "output_type": "stream",
          "text": [
            "Enter year: 2010\n",
            "Enter month: 5\n",
            "      May 2010\n",
            "Mo Tu We Th Fr Sa Su\n",
            "                1  2\n",
            " 3  4  5  6  7  8  9\n",
            "10 11 12 13 14 15 16\n",
            "17 18 19 20 21 22 23\n",
            "24 25 26 27 28 29 30\n",
            "31\n",
            "\n"
          ],
          "name": "stdout"
        }
      ]
    },
    {
      "cell_type": "markdown",
      "metadata": {
        "id": "Nt-Mlsg9CxPf"
      },
      "source": [
        "# 3- Python Program to Check if a Number is Odd or Even"
      ]
    },
    {
      "cell_type": "code",
      "metadata": {
        "id": "LwWl1-sgCX20",
        "outputId": "d4643646-d3c8-4b2e-8092-8214f9de1a1d",
        "colab": {
          "base_uri": "https://localhost:8080/"
        }
      },
      "source": [
        "num = int(input(\"Enter a number: \"))\r\n",
        "if (num % 2) == 0:\r\n",
        "   print(\"{0} is Even\".format(num))\r\n",
        "else:\r\n",
        "   print(\"{0} is Odd\".format(num))"
      ],
      "execution_count": 3,
      "outputs": [
        {
          "output_type": "stream",
          "text": [
            "Enter a number: 25\n",
            "25 is Odd\n"
          ],
          "name": "stdout"
        }
      ]
    },
    {
      "cell_type": "markdown",
      "metadata": {
        "id": "uRprd3V7C3wZ"
      },
      "source": [
        "# 4- Python Program to Calculate the Area of a Triangle"
      ]
    },
    {
      "cell_type": "code",
      "metadata": {
        "id": "Yv-c5medC1iC",
        "outputId": "85b38d33-1997-4700-e252-eb4035c9326b",
        "colab": {
          "base_uri": "https://localhost:8080/"
        }
      },
      "source": [
        "a = float(input('Enter first side: '))\r\n",
        "b = float(input('Enter second side: '))\r\n",
        "c = float(input('Enter third side: '))\r\n",
        "\r\n",
        "# calculate the semi-perimeter\r\n",
        "s = (a + b + c) / 2\r\n",
        "\r\n",
        "# calculate the area\r\n",
        "area = (s*(s-a)*(s-b)*(s-c)) ** 0.5\r\n",
        "print('The area of the triangle is %0.2f' %area)"
      ],
      "execution_count": 4,
      "outputs": [
        {
          "output_type": "stream",
          "text": [
            "Enter first side: 5\n",
            "Enter second side: 7\n",
            "Enter third side: 10\n",
            "The area of the triangle is 16.25\n"
          ],
          "name": "stdout"
        }
      ]
    },
    {
      "cell_type": "markdown",
      "metadata": {
        "id": "ps7DXuulDVME"
      },
      "source": [
        "# 5- Python Program to Check if a Number is Positive, Negative or 0"
      ]
    },
    {
      "cell_type": "code",
      "metadata": {
        "id": "ln9mAXh6DMcN",
        "outputId": "1966bb75-5c12-468d-a304-2f1ab6298d53",
        "colab": {
          "base_uri": "https://localhost:8080/"
        }
      },
      "source": [
        "num = int(input(\"Enter a number: \"))\r\n",
        "if num > 0:\r\n",
        "   print(\"Positive number\")\r\n",
        "elif num == 0:\r\n",
        "   print(\"Zero\")\r\n",
        "else:\r\n",
        "   print(\"Negative number\")"
      ],
      "execution_count": 5,
      "outputs": [
        {
          "output_type": "stream",
          "text": [
            "Enter a number: 25\n",
            "Positive number\n"
          ],
          "name": "stdout"
        }
      ]
    },
    {
      "cell_type": "code",
      "metadata": {
        "id": "O4lLIem2DcCc"
      },
      "source": [
        ""
      ],
      "execution_count": null,
      "outputs": []
    }
  ]
}